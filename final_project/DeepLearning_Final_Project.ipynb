{
 "cells": [
  {
   "cell_type": "code",
   "execution_count": 1,
   "metadata": {},
   "outputs": [],
   "source": [
    "import pandas as pd\n",
    "import numpy as np\n",
    "import tensorflow as tf\n",
    "import matplotlib.pyplot as plt"
   ]
  },
  {
   "cell_type": "code",
   "execution_count": 43,
   "metadata": {},
   "outputs": [],
   "source": [
    "f = open(\"pheno_n300_conti.phe\")\n",
    "lines = []\n",
    "for line in f:\n",
    "    lines.append(line.strip().split(\"\\t\"))\n",
    "    \n",
    "phe_conti300_df = pd.DataFrame(lines)\n",
    "tmp_list = []\n",
    "for i in range(len(phe_conti300_df)):\n",
    "    tmp_list.append([phe_conti300_df.iloc[i,2], phe_conti300_df.iloc[i,3]])\n",
    "    \n",
    "conti_train_Y = []\n",
    "for index in tmp_list:\n",
    "    conti_train_Y.append(list(map(float, index)))\n",
    "    \n",
    "conti_train_Y = np.array(conti_train_Y)\n",
    "fam_conti_train_Y = conti_train_Y[:, 0]\n",
    "id_conti_train_Y = conti_train_Y[:, 1]\n",
    "# conti_train_Y"
   ]
  },
  {
   "cell_type": "code",
   "execution_count": 44,
   "metadata": {},
   "outputs": [],
   "source": [
    "f = open(\"pheno_n150_conti.phe\")\n",
    "lines = []\n",
    "for line in f:\n",
    "    lines.append(line.strip().split(\"\\t\"))\n",
    "    \n",
    "phe_conti150_df = pd.DataFrame(lines)\n",
    "tmp_list = []\n",
    "for i in range(len(phe_conti150_df)):\n",
    "    tmp_list.append([phe_conti150_df.iloc[i,2], phe_conti150_df.iloc[i,3]])\n",
    "    \n",
    "conti_test_Y = []\n",
    "for index in tmp_list:\n",
    "    conti_test_Y.append(list(map(float, index)))\n",
    "\n",
    "conti_test_Y = np.array(conti_test_Y)\n",
    "fam_conti_test_Y = conti_test_Y[:, 0]\n",
    "id_conti_test_Y = conti_test_Y[:, 1]\n",
    "# conti_test_Y"
   ]
  },
  {
   "cell_type": "code",
   "execution_count": 45,
   "metadata": {},
   "outputs": [],
   "source": [
    "f = open(\"pheno_n300_binary.phe\")\n",
    "lines = []\n",
    "for line in f:\n",
    "    lines.append(line.strip().split(\"\\t\"))\n",
    "\n",
    "phe_bin300_df = pd.DataFrame(lines)\n",
    "tmp_list = []\n",
    "for i in range(len(phe_bin300_df)):\n",
    "    tmp_list.append([phe_bin300_df.iloc[i,2], phe_bin300_df.iloc[i,3]])\n",
    "    \n",
    "bin_train_Y = []\n",
    "for index in tmp_list:\n",
    "    bin_train_Y.append(list(map(float, index)))\n",
    "\n",
    "bin_train_Y = np.array(bin_train_Y)\n",
    "fam_bin_train_Y = bin_train_Y[:, 0]\n",
    "id_bin_train_Y = bin_train_Y[:, 1]\n",
    "# bin_train_Y"
   ]
  },
  {
   "cell_type": "code",
   "execution_count": 46,
   "metadata": {},
   "outputs": [],
   "source": [
    "f = open(\"pheno_n150_binary.phe\")\n",
    "lines = []\n",
    "for line in f:\n",
    "    lines.append(line.strip().split(\"\\t\"))\n",
    "\n",
    "phe_bin150_df = pd.DataFrame(lines)\n",
    "tmp_list = []\n",
    "for i in range(len(phe_bin150_df)):\n",
    "    tmp_list.append([phe_bin150_df.iloc[i,2], phe_bin150_df.iloc[i,3]])\n",
    "    \n",
    "bin_test_Y = []\n",
    "for index in tmp_list:\n",
    "    bin_test_Y.append(list(map(float, index)))\n",
    "\n",
    "bin_test_Y = np.array(bin_test_Y)\n",
    "fam_bin_test_Y = bin_test_Y[:, 0]\n",
    "id_bin_test_Y = bin_test_Y[:, 1]\n",
    "# bin_test_Y"
   ]
  },
  {
   "cell_type": "code",
   "execution_count": 47,
   "metadata": {},
   "outputs": [],
   "source": [
    "f = open(\"sim_n300_p1000.mldose\")\n",
    "lines = []\n",
    "for line in f:\n",
    "    lines.append(line.strip().split(\"\\t\"))\n",
    "\n",
    "tmp_list = []\n",
    "for i in range(len(lines)):\n",
    "    tmp_list.append(lines[i][2:])\n",
    "\n",
    "train_X = []\n",
    "for index in tmp_list:\n",
    "    train_X.append(list(map(float, index)))\n",
    "\n",
    "train_X = np.array(train_X)"
   ]
  },
  {
   "cell_type": "code",
   "execution_count": 48,
   "metadata": {},
   "outputs": [],
   "source": [
    "f = open(\"sim_n150_p1000.mldose\")\n",
    "lines = []\n",
    "for line in f:\n",
    "    lines.append(line.strip().split(\"\\t\"))\n",
    "\n",
    "tmp_list = []\n",
    "for i in range(len(lines)):\n",
    "    tmp_list.append(lines[i][2:])\n",
    "\n",
    "test_X = []\n",
    "for index in tmp_list:\n",
    "    test_X.append(list(map(float, index)))\n",
    "\n",
    "test_X = np.array(test_X)"
   ]
  },
  {
   "cell_type": "code",
   "execution_count": 8,
   "metadata": {},
   "outputs": [],
   "source": [
    "def LeastSquareMethod(X, Y):\n",
    "    x_bar = sum(X) / len(X)\n",
    "    y_bar = sum(Y) / len(Y)\n",
    "    \n",
    "    a = sum([(y - y_bar) * (x - x_bar) for y, x in list(zip(Y,X))])\n",
    "    a /= sum([(x - x_bar) ** 2 for x in X])\n",
    "    b = y_bar - a * x_bar\n",
    "    print('slope : ', a, 'intercept : ', b)\n",
    "    \n",
    "    line_x = np.arange(min(X), max(X), 0.01)\n",
    "    line_y = a * line_x + b\n",
    "    \n",
    "    plt.plot(line_x, line_y, 'r-')\n",
    "    "
   ]
  },
  {
   "cell_type": "code",
   "execution_count": 104,
   "metadata": {},
   "outputs": [
    {
     "name": "stderr",
     "output_type": "stream",
     "text": [
      "C:\\Users\\ghdtk\\AppData\\Roaming\\Python\\Python38\\site-packages\\tensorflow\\python\\keras\\optimizer_v2\\optimizer_v2.py:374: UserWarning: The `lr` argument is deprecated, use `learning_rate` instead.\n",
      "  warnings.warn(\n"
     ]
    },
    {
     "name": "stdout",
     "output_type": "stream",
     "text": [
      "Model: \"sequential_60\"\n",
      "_________________________________________________________________\n",
      "Layer (type)                 Output Shape              Param #   \n",
      "=================================================================\n",
      "dense_232 (Dense)            (None, 2000)              2002000   \n",
      "_________________________________________________________________\n",
      "dense_233 (Dense)            (None, 1000)              2001000   \n",
      "_________________________________________________________________\n",
      "dense_234 (Dense)            (None, 500)               500500    \n",
      "_________________________________________________________________\n",
      "dense_235 (Dense)            (None, 1)                 501       \n",
      "=================================================================\n",
      "Total params: 4,504,001\n",
      "Trainable params: 4,504,001\n",
      "Non-trainable params: 0\n",
      "_________________________________________________________________\n",
      "Epoch 1/25\n",
      "23/23 [==============================] - 1s 20ms/step - loss: 92353.6719 - val_loss: 1041.5760\n",
      "Epoch 2/25\n",
      "23/23 [==============================] - 0s 16ms/step - loss: 177.3322 - val_loss: 33.7830\n",
      "Epoch 3/25\n",
      "23/23 [==============================] - 0s 17ms/step - loss: 13.4196 - val_loss: 3.0000\n",
      "Epoch 4/25\n",
      "23/23 [==============================] - 0s 16ms/step - loss: 1.6719 - val_loss: 1.1127\n",
      "Epoch 5/25\n",
      "23/23 [==============================] - 0s 16ms/step - loss: 1.8512 - val_loss: 4.3559\n",
      "Epoch 6/25\n",
      "23/23 [==============================] - 0s 17ms/step - loss: 1.8834 - val_loss: 1.9371\n",
      "Epoch 7/25\n",
      "23/23 [==============================] - 0s 16ms/step - loss: 1.5454 - val_loss: 2.8294\n",
      "Epoch 8/25\n",
      "23/23 [==============================] - 0s 16ms/step - loss: 2.2710 - val_loss: 1.4442\n",
      "Epoch 9/25\n",
      "23/23 [==============================] - 0s 16ms/step - loss: 2.5756 - val_loss: 1.2180\n",
      "Epoch 10/25\n",
      "23/23 [==============================] - 0s 18ms/step - loss: 1.2437 - val_loss: 4.7621\n",
      "Epoch 11/25\n",
      "23/23 [==============================] - 0s 17ms/step - loss: 1.6377 - val_loss: 3.0694\n",
      "Epoch 12/25\n",
      "23/23 [==============================] - 0s 16ms/step - loss: 1.9417 - val_loss: 1.3019\n",
      "Epoch 13/25\n",
      "23/23 [==============================] - ETA: 0s - loss: 5.636 - 0s 16ms/step - loss: 5.1770 - val_loss: 1.0181\n",
      "Epoch 14/25\n",
      "23/23 [==============================] - 0s 16ms/step - loss: 2.2121 - val_loss: 1.5992\n",
      "Epoch 15/25\n",
      "23/23 [==============================] - 0s 19ms/step - loss: 3.4797 - val_loss: 16.9194\n",
      "Epoch 16/25\n",
      "23/23 [==============================] - 0s 17ms/step - loss: 6.1188 - val_loss: 3.3772\n",
      "Epoch 17/25\n",
      "23/23 [==============================] - 0s 16ms/step - loss: 7.7520 - val_loss: 3.7651\n",
      "Epoch 18/25\n",
      "23/23 [==============================] - 0s 16ms/step - loss: 2.7424 - val_loss: 1.2405\n",
      "Epoch 19/25\n",
      "23/23 [==============================] - 0s 15ms/step - loss: 2.9434 - val_loss: 0.9439\n",
      "Epoch 20/25\n",
      "23/23 [==============================] - 0s 16ms/step - loss: 1.8167 - val_loss: 1.7339\n",
      "Epoch 21/25\n",
      "23/23 [==============================] - 0s 18ms/step - loss: 2.6518 - val_loss: 10.4761\n",
      "Epoch 22/25\n",
      "23/23 [==============================] - 0s 16ms/step - loss: 40.6356 - val_loss: 20.2454\n",
      "Epoch 23/25\n",
      "23/23 [==============================] - 0s 17ms/step - loss: 31.0717 - val_loss: 106.7977\n",
      "Epoch 24/25\n",
      "23/23 [==============================] - 0s 19ms/step - loss: 34.5252 - val_loss: 15.4026\n",
      "Epoch 25/25\n",
      "23/23 [==============================] - 0s 16ms/step - loss: 4.6247 - val_loss: 0.9962\n",
      "5/5 [==============================] - 0s 4ms/step - loss: 0.9382\n",
      "slope :  [-6.202676e-05] intercept :  [-0.34961426]\n"
     ]
    },
    {
     "data": {
      "text/plain": [
       "<matplotlib.legend.Legend at 0x1f0e48339d0>"
      ]
     },
     "execution_count": 104,
     "metadata": {},
     "output_type": "execute_result"
    },
    {
     "data": {
      "image/png": "[encoded data removed]",
      "text/plain": [
       "<Figure size 432x288 with 1 Axes>"
      ]
     },
     "metadata": {
      "needs_background": "light"
     },
     "output_type": "display_data"
    },
    {
     "data": {
      "image/png": "[encoded data removed]",
      "text/plain": [
       "<Figure size 432x288 with 1 Axes>"
      ]
     },
     "metadata": {
      "needs_background": "light"
     },
     "output_type": "display_data"
    }
   ],
   "source": [
    "model = tf.keras.Sequential([\n",
    "    tf.keras.layers.Dense(units = 2000, activation = 'relu', input_shape = (1000,)),\n",
    "    tf.keras.layers.Dense(units = 1000, activation = 'relu'),\n",
    "    tf.keras.layers.Dense(units = 500, activation = 'relu'),\n",
    "    tf.keras.layers.Dense(units = 1)\n",
    "])\n",
    "model.compile(optimizer = tf.keras.optimizers.Adam(lr=0.01), loss='mse')\n",
    "model.summary()\n",
    "\n",
    "history = model.fit(train_X, fam_conti_train_Y, epochs = 25, batch_size = 10, validation_split = 0.25)\n",
    "\n",
    "model.evaluate(test_X, fam_conti_test_Y)\n",
    "pred_Y = model.predict(test_X)\n",
    "\n",
    "plt.plot(fam_conti_test_Y, pred_Y, 'b.')\n",
    "LeastSquareMethod(fam_conti_test_Y, pred_Y)\n",
    "plt.plot([min(fam_conti_test_Y), max(fam_conti_test_Y)], [min(fam_conti_test_Y), max(fam_conti_test_Y)], ls='--', c='.3')\n",
    "plt.xlabel(\"test_Y\")\n",
    "plt.ylabel(\"pred_Y\")\n",
    "\n",
    "plt.figure()\n",
    "plt.plot(history.history['loss'], 'b--', label = 'loss')\n",
    "plt.plot(history.history['val_loss'], 'r--', label = 'val_loss')\n",
    "plt.legend()"
   ]
  },
  {
   "cell_type": "code",
   "execution_count": 12,
   "metadata": {},
   "outputs": [
    {
     "name": "stderr",
     "output_type": "stream",
     "text": [
      "C:\\Users\\ghdtk\\AppData\\Roaming\\Python\\Python38\\site-packages\\tensorflow\\python\\keras\\optimizer_v2\\optimizer_v2.py:374: UserWarning: The `lr` argument is deprecated, use `learning_rate` instead.\n",
      "  warnings.warn(\n"
     ]
    },
    {
     "name": "stdout",
     "output_type": "stream",
     "text": [
      "Epoch 1/25\n",
      "23/23 [==============================] - 0s 6ms/step - loss: 1.9289 - val_loss: 1.1879\n",
      "Epoch 2/25\n",
      "23/23 [==============================] - 0s 2ms/step - loss: 0.9720 - val_loss: 0.9064\n",
      "Epoch 3/25\n",
      "23/23 [==============================] - 0s 1ms/step - loss: 0.8672 - val_loss: 1.0333\n",
      "Epoch 4/25\n",
      "23/23 [==============================] - 0s 1ms/step - loss: 0.6992 - val_loss: 0.7990\n",
      "Epoch 5/25\n",
      "23/23 [==============================] - 0s 1ms/step - loss: 0.5546 - val_loss: 0.8564\n",
      "Epoch 6/25\n",
      "23/23 [==============================] - 0s 1ms/step - loss: 0.4834 - val_loss: 0.7547\n",
      "Epoch 7/25\n",
      "23/23 [==============================] - 0s 1ms/step - loss: 0.3259 - val_loss: 0.9713\n",
      "Epoch 8/25\n",
      "23/23 [==============================] - 0s 2ms/step - loss: 0.2853 - val_loss: 0.8671\n",
      "Epoch 9/25\n",
      "23/23 [==============================] - 0s 1ms/step - loss: 0.2651 - val_loss: 1.8719\n",
      "Epoch 10/25\n",
      "23/23 [==============================] - 0s 1ms/step - loss: 0.4595 - val_loss: 0.6960\n",
      "Epoch 11/25\n",
      "23/23 [==============================] - 0s 1ms/step - loss: 0.2112 - val_loss: 0.7126\n",
      "Epoch 12/25\n",
      "23/23 [==============================] - 0s 1ms/step - loss: 0.2427 - val_loss: 0.7148\n",
      "Epoch 13/25\n",
      "23/23 [==============================] - 0s 1ms/step - loss: 0.1778 - val_loss: 0.7960\n",
      "Epoch 14/25\n",
      "23/23 [==============================] - 0s 1ms/step - loss: 0.1540 - val_loss: 0.7323\n",
      "Epoch 15/25\n",
      "23/23 [==============================] - 0s 1ms/step - loss: 0.1909 - val_loss: 0.7255\n",
      "Epoch 16/25\n",
      "23/23 [==============================] - 0s 1ms/step - loss: 0.1470 - val_loss: 0.7403\n",
      "Epoch 17/25\n",
      "23/23 [==============================] - 0s 1ms/step - loss: 0.1101 - val_loss: 0.7983\n",
      "Epoch 18/25\n",
      "23/23 [==============================] - 0s 2ms/step - loss: 0.1306 - val_loss: 0.7655\n",
      "Epoch 19/25\n",
      "23/23 [==============================] - 0s 2ms/step - loss: 0.1075 - val_loss: 0.7821\n",
      "Epoch 20/25\n",
      "23/23 [==============================] - 0s 2ms/step - loss: 0.1123 - val_loss: 0.7819\n",
      "Epoch 21/25\n",
      "23/23 [==============================] - 0s 2ms/step - loss: 0.0796 - val_loss: 0.7955\n",
      "Epoch 22/25\n",
      "23/23 [==============================] - 0s 2ms/step - loss: 0.0670 - val_loss: 0.8197\n",
      "Epoch 23/25\n",
      "23/23 [==============================] - 0s 2ms/step - loss: 0.0734 - val_loss: 0.7654\n",
      "Epoch 24/25\n",
      "23/23 [==============================] - 0s 1ms/step - loss: 0.1455 - val_loss: 0.8357\n",
      "Epoch 25/25\n",
      "23/23 [==============================] - 0s 2ms/step - loss: 0.1389 - val_loss: 0.7682\n",
      "5/5 [==============================] - 0s 998us/step - loss: 0.8660\n",
      "slope :  [0.23086098] intercept :  [0.00973821]\n"
     ]
    },
    {
     "data": {
      "text/plain": [
       "<matplotlib.legend.Legend at 0x1f0ed651df0>"
      ]
     },
     "execution_count": 12,
     "metadata": {},
     "output_type": "execute_result"
    },
    {
     "data": {
      "image/png": "[encoded data removed]",
      "text/plain": [
       "<Figure size 432x288 with 1 Axes>"
      ]
     },
     "metadata": {
      "needs_background": "light"
     },
     "output_type": "display_data"
    },
    {
     "data": {
      "image/png": "[encoded data removed]",
      "text/plain": [
       "<Figure size 432x288 with 1 Axes>"
      ]
     },
     "metadata": {
      "needs_background": "light"
     },
     "output_type": "display_data"
    }
   ],
   "source": [
    "def getSlope(X, Y):\n",
    "    x_bar = sum(X) / len(X)\n",
    "    y_bar = sum(Y) / len(Y)\n",
    "    \n",
    "    a = sum([(y - y_bar) * (x - x_bar) for y, x in list(zip(Y, X))])\n",
    "    return a\n",
    "\n",
    "mydict = {}\n",
    "for i in range(1000):\n",
    "    snp_i = pd.DataFrame(train_X).iloc[:, i]\n",
    "    mydict[i] = abs(getSlope(snp_i, fam_conti_train_Y))\n",
    "\n",
    "\n",
    "MostSNP = sorted(mydict.items(), key = lambda item: item[1], reverse = True)\n",
    "selected_SNP = pd.DataFrame()\n",
    "for i in range(500):\n",
    "    selected_SNP['SNP' + str(MostSNP[i][0]+1)] = pd.DataFrame(train_X).iloc[:, MostSNP[i][0]]\n",
    "\n",
    "selected_SNP = np.array(selected_SNP)\n",
    "\n",
    "model = tf.keras.Sequential([\n",
    "    tf.keras.layers.Dense(units = 64, activation = 'relu', input_shape = (500,)),\n",
    "    tf.keras.layers.Dense(units = 32, activation = 'relu'),\n",
    "    tf.keras.layers.Dense(units = 16, activation = 'relu'),\n",
    "    tf.keras.layers.Dense(units = 1)\n",
    "])\n",
    "model.compile(optimizer = tf.keras.optimizers.Adam(lr=0.01), loss='mse')\n",
    "\n",
    "history = model.fit(selected_SNP, fam_conti_train_Y, epochs = 25, batch_size = 10, validation_split = 0.25)\n",
    "\n",
    "selected_test_SNP = pd.DataFrame()\n",
    "for i in range(500):\n",
    "    selected_test_SNP['SNP' + str(MostSNP[i][0]+1)] = pd.DataFrame(test_X).iloc[:, MostSNP[i][0]]\n",
    "selected_test_SNP = np.array(selected_test_SNP)\n",
    "\n",
    "model.evaluate(selected_test_SNP, fam_conti_test_Y)\n",
    "pred_Y = model.predict(selected_test_SNP)\n",
    "\n",
    "plt.plot(fam_conti_test_Y, pred_Y, 'b.')\n",
    "LeastSquareMethod(fam_conti_test_Y, pred_Y)\n",
    "plt.plot([min(fam_conti_test_Y), max(fam_conti_test_Y)], [min(fam_conti_test_Y), max(fam_conti_test_Y)], ls='--', c='.3')\n",
    "plt.xlabel(\"test_Y\")\n",
    "plt.ylabel(\"pred_Y\")\n",
    "\n",
    "plt.figure()\n",
    "plt.plot(history.history['loss'], 'b--', label = 'loss')\n",
    "plt.plot(history.history['val_loss'], 'r--', label = 'val_loss')\n",
    "plt.legend()"
   ]
  },
  {
   "cell_type": "code",
   "execution_count": 14,
   "metadata": {},
   "outputs": [
    {
     "name": "stdout",
     "output_type": "stream",
     "text": [
      "slope :  0.12415061213778722 intercept :  0.012352808128927948\n"
     ]
    },
    {
     "data": {
      "image/png": "[encoded data removed]",
      "text/plain": [
       "<Figure size 432x288 with 1 Axes>"
      ]
     },
     "metadata": {
      "needs_background": "light"
     },
     "output_type": "display_data"
    }
   ],
   "source": [
    "x = fam_conti_train_Y\n",
    "x = x.tolist()\n",
    "x.extend(fam_conti_test_Y.tolist())\n",
    "\n",
    "y = id_conti_train_Y\n",
    "y = y.tolist()\n",
    "y.extend(id_conti_test_Y.tolist())\n",
    "\n",
    "plt.xlabel(\"family_phenotype\")\n",
    "plt.ylabel(\"id_phenotype\")\n",
    "plt.plot(x, y, 'b.')\n",
    "LeastSquareMethod(x, y)"
   ]
  },
  {
   "cell_type": "code",
   "execution_count": 24,
   "metadata": {},
   "outputs": [
    {
     "name": "stderr",
     "output_type": "stream",
     "text": [
      "C:\\Users\\ghdtk\\AppData\\Roaming\\Python\\Python38\\site-packages\\tensorflow\\python\\keras\\optimizer_v2\\optimizer_v2.py:374: UserWarning: The `lr` argument is deprecated, use `learning_rate` instead.\n",
      "  warnings.warn(\n"
     ]
    },
    {
     "name": "stdout",
     "output_type": "stream",
     "text": [
      "Model: \"sequential_13\"\n",
      "_________________________________________________________________\n",
      "Layer (type)                 Output Shape              Param #   \n",
      "=================================================================\n",
      "dense_45 (Dense)             (None, 64)                64064     \n",
      "_________________________________________________________________\n",
      "dense_46 (Dense)             (None, 32)                2080      \n",
      "_________________________________________________________________\n",
      "dense_47 (Dense)             (None, 16)                528       \n",
      "_________________________________________________________________\n",
      "dense_48 (Dense)             (None, 1)                 17        \n",
      "=================================================================\n",
      "Total params: 66,689\n",
      "Trainable params: 66,689\n",
      "Non-trainable params: 0\n",
      "_________________________________________________________________\n",
      "Epoch 1/25\n",
      "23/23 [==============================] - 1s 11ms/step - loss: 8.2606 - val_loss: 1.1602\n",
      "Epoch 2/25\n",
      "23/23 [==============================] - 0s 2ms/step - loss: 1.3092 - val_loss: 1.0918\n",
      "Epoch 3/25\n",
      "23/23 [==============================] - 0s 1ms/step - loss: 1.1609 - val_loss: 0.9560\n",
      "Epoch 4/25\n",
      "23/23 [==============================] - 0s 1ms/step - loss: 1.1069 - val_loss: 0.9588\n",
      "Epoch 5/25\n",
      "23/23 [==============================] - 0s 1ms/step - loss: 1.1151 - val_loss: 1.5474\n",
      "Epoch 6/25\n",
      "23/23 [==============================] - 0s 1ms/step - loss: 0.9568 - val_loss: 2.8969\n",
      "Epoch 7/25\n",
      "23/23 [==============================] - 0s 1ms/step - loss: 1.1360 - val_loss: 1.4000\n",
      "Epoch 8/25\n",
      "23/23 [==============================] - 0s 1ms/step - loss: 0.7906 - val_loss: 1.6655\n",
      "Epoch 9/25\n",
      "23/23 [==============================] - 0s 2ms/step - loss: 1.1776 - val_loss: 3.2315\n",
      "Epoch 10/25\n",
      "23/23 [==============================] - 0s 1ms/step - loss: 1.0411 - val_loss: 1.7229\n",
      "Epoch 11/25\n",
      "23/23 [==============================] - 0s 1ms/step - loss: 1.0728 - val_loss: 1.1132\n",
      "Epoch 12/25\n",
      "23/23 [==============================] - 0s 2ms/step - loss: 0.8656 - val_loss: 1.3448\n",
      "Epoch 13/25\n",
      "23/23 [==============================] - 0s 2ms/step - loss: 0.9030 - val_loss: 0.9234\n",
      "Epoch 14/25\n",
      "23/23 [==============================] - 0s 1ms/step - loss: 0.6920 - val_loss: 0.9768\n",
      "Epoch 15/25\n",
      "23/23 [==============================] - 0s 1ms/step - loss: 0.6412 - val_loss: 0.9509\n",
      "Epoch 16/25\n",
      "23/23 [==============================] - 0s 1ms/step - loss: 0.3856 - val_loss: 1.1286\n",
      "Epoch 17/25\n",
      "23/23 [==============================] - 0s 1ms/step - loss: 0.3476 - val_loss: 0.9952\n",
      "Epoch 18/25\n",
      "23/23 [==============================] - 0s 2ms/step - loss: 0.2577 - val_loss: 1.0700\n",
      "Epoch 19/25\n",
      "23/23 [==============================] - 0s 2ms/step - loss: 0.2188 - val_loss: 1.1801\n",
      "Epoch 20/25\n",
      "23/23 [==============================] - 0s 1ms/step - loss: 0.2094 - val_loss: 1.3923\n",
      "Epoch 21/25\n",
      "23/23 [==============================] - 0s 1ms/step - loss: 0.3035 - val_loss: 1.4638\n",
      "Epoch 22/25\n",
      "23/23 [==============================] - 0s 1ms/step - loss: 0.2955 - val_loss: 1.0080\n",
      "Epoch 23/25\n",
      "23/23 [==============================] - 0s 1ms/step - loss: 0.1378 - val_loss: 1.1497\n",
      "Epoch 24/25\n",
      "23/23 [==============================] - 0s 1ms/step - loss: 0.1231 - val_loss: 1.1684\n",
      "Epoch 25/25\n",
      "23/23 [==============================] - 0s 1ms/step - loss: 0.0874 - val_loss: 1.1062\n",
      "5/5 [==============================] - 0s 998us/step - loss: 1.3553\n",
      "slope :  [0.11172863] intercept :  [0.19508848]\n"
     ]
    },
    {
     "data": {
      "text/plain": [
       "<matplotlib.legend.Legend at 0x1f0e2cd5af0>"
      ]
     },
     "execution_count": 24,
     "metadata": {},
     "output_type": "execute_result"
    },
    {
     "data": {
      "image/png": "[encoded data removed]",
      "text/plain": [
       "<Figure size 432x288 with 1 Axes>"
      ]
     },
     "metadata": {
      "needs_background": "light"
     },
     "output_type": "display_data"
    },
    {
     "data": {
      "image/png": "[encoded data removed]",
      "text/plain": [
       "<Figure size 432x288 with 1 Axes>"
      ]
     },
     "metadata": {
      "needs_background": "light"
     },
     "output_type": "display_data"
    }
   ],
   "source": [
    "model = tf.keras.Sequential([\n",
    "    tf.keras.layers.Dense(units = 64, activation = 'relu', input_shape = (1000,)),\n",
    "    tf.keras.layers.Dense(units = 32, activation = 'relu'),\n",
    "    tf.keras.layers.Dense(units = 16, activation = 'relu'),\n",
    "    tf.keras.layers.Dense(units = 1)\n",
    "])\n",
    "model.compile(optimizer = tf.keras.optimizers.Adam(lr=0.01), loss='mse')\n",
    "model.summary()\n",
    "\n",
    "history = model.fit(train_X, id_conti_train_Y, epochs = 25, batch_size = 10, validation_split = 0.25)\n",
    "\n",
    "model.evaluate(test_X, id_conti_test_Y)\n",
    "pred_Y = model.predict(test_X)\n",
    "\n",
    "plt.plot(id_conti_test_Y, pred_Y, 'b.')\n",
    "LeastSquareMethod(id_conti_test_Y, pred_Y)\n",
    "plt.plot([min(id_conti_test_Y), max(id_conti_test_Y)], [min(id_conti_test_Y), max(id_conti_test_Y)], ls='--', c='.3')\n",
    "plt.xlabel(\"test_Y\")\n",
    "plt.ylabel(\"pred_Y\")\n",
    "\n",
    "plt.figure()\n",
    "plt.plot(history.history['loss'], 'b--', label = 'loss')\n",
    "plt.plot(history.history['val_loss'], 'r--', label = 'val_loss')\n",
    "plt.legend()"
   ]
  },
  {
   "cell_type": "code",
   "execution_count": 25,
   "metadata": {},
   "outputs": [
    {
     "name": "stderr",
     "output_type": "stream",
     "text": [
      "C:\\Users\\ghdtk\\AppData\\Roaming\\Python\\Python38\\site-packages\\tensorflow\\python\\keras\\optimizer_v2\\optimizer_v2.py:374: UserWarning: The `lr` argument is deprecated, use `learning_rate` instead.\n",
      "  warnings.warn(\n"
     ]
    },
    {
     "name": "stdout",
     "output_type": "stream",
     "text": [
      "Epoch 1/25\n",
      "23/23 [==============================] - 0s 5ms/step - loss: 1.1663 - val_loss: 0.9450\n",
      "Epoch 2/25\n",
      "23/23 [==============================] - 0s 1ms/step - loss: 0.9438 - val_loss: 0.8758\n",
      "Epoch 3/25\n",
      "23/23 [==============================] - 0s 1ms/step - loss: 0.8287 - val_loss: 0.7729\n",
      "Epoch 4/25\n",
      "23/23 [==============================] - 0s 1ms/step - loss: 0.8872 - val_loss: 0.8518\n",
      "Epoch 5/25\n",
      "23/23 [==============================] - 0s 1ms/step - loss: 0.7693 - val_loss: 0.7960\n",
      "Epoch 6/25\n",
      "23/23 [==============================] - 0s 1ms/step - loss: 0.6850 - val_loss: 0.7493\n",
      "Epoch 7/25\n",
      "23/23 [==============================] - 0s 1ms/step - loss: 0.6750 - val_loss: 0.7152\n",
      "Epoch 8/25\n",
      "23/23 [==============================] - 0s 1ms/step - loss: 0.6517 - val_loss: 0.7294\n",
      "Epoch 9/25\n",
      "23/23 [==============================] - 0s 1ms/step - loss: 0.7027 - val_loss: 0.7219\n",
      "Epoch 10/25\n",
      "23/23 [==============================] - 0s 1ms/step - loss: 0.6564 - val_loss: 0.7076\n",
      "Epoch 11/25\n",
      "23/23 [==============================] - 0s 1ms/step - loss: 0.6480 - val_loss: 0.7269\n",
      "Epoch 12/25\n",
      "23/23 [==============================] - 0s 1ms/step - loss: 0.6441 - val_loss: 0.7604\n",
      "Epoch 13/25\n",
      "23/23 [==============================] - 0s 1ms/step - loss: 0.6074 - val_loss: 0.7314\n",
      "Epoch 14/25\n",
      "23/23 [==============================] - 0s 1ms/step - loss: 0.6928 - val_loss: 0.7456\n",
      "Epoch 15/25\n",
      "23/23 [==============================] - 0s 1ms/step - loss: 0.6100 - val_loss: 0.7615\n",
      "Epoch 16/25\n",
      "23/23 [==============================] - 0s 1ms/step - loss: 0.5800 - val_loss: 0.8367\n",
      "Epoch 17/25\n",
      "23/23 [==============================] - 0s 1ms/step - loss: 0.5965 - val_loss: 0.8749\n",
      "Epoch 18/25\n",
      "23/23 [==============================] - 0s 1ms/step - loss: 0.6482 - val_loss: 0.7270\n",
      "Epoch 19/25\n",
      "23/23 [==============================] - 0s 1ms/step - loss: 0.5745 - val_loss: 0.7941\n",
      "Epoch 20/25\n",
      "23/23 [==============================] - 0s 1ms/step - loss: 0.5597 - val_loss: 0.7439\n",
      "Epoch 21/25\n",
      "23/23 [==============================] - 0s 1ms/step - loss: 0.5665 - val_loss: 0.8026\n",
      "Epoch 22/25\n",
      "23/23 [==============================] - 0s 1ms/step - loss: 0.5612 - val_loss: 0.8159\n",
      "Epoch 23/25\n",
      "23/23 [==============================] - 0s 1ms/step - loss: 0.5359 - val_loss: 0.7564\n",
      "Epoch 24/25\n",
      "23/23 [==============================] - 0s 1ms/step - loss: 0.5138 - val_loss: 0.7485\n",
      "Epoch 25/25\n",
      "23/23 [==============================] - 0s 1ms/step - loss: 0.5021 - val_loss: 0.7857\n",
      "5/5 [==============================] - 0s 749us/step - loss: 1.1264\n",
      "slope :  [0.18729967] intercept :  [0.05194439]\n"
     ]
    },
    {
     "data": {
      "text/plain": [
       "<matplotlib.legend.Legend at 0x1f0ed2d1640>"
      ]
     },
     "execution_count": 25,
     "metadata": {},
     "output_type": "execute_result"
    },
    {
     "data": {
      "image/png": "[encoded data removed]",
      "text/plain": [
       "<Figure size 432x288 with 1 Axes>"
      ]
     },
     "metadata": {
      "needs_background": "light"
     },
     "output_type": "display_data"
    },
    {
     "data": {
      "image/png": "[encoded data removed]",
      "text/plain": [
       "<Figure size 432x288 with 1 Axes>"
      ]
     },
     "metadata": {
      "needs_background": "light"
     },
     "output_type": "display_data"
    }
   ],
   "source": [
    "mydict = {}\n",
    "for i in range(1000):\n",
    "    snp_i = pd.DataFrame(train_X).iloc[:, i]\n",
    "    mydict[i] = abs(getSlope(snp_i, id_conti_train_Y))\n",
    "\n",
    "\n",
    "MostSNP = sorted(mydict.items(), key = lambda item: item[1], reverse = True)\n",
    "selected_SNP = pd.DataFrame()\n",
    "for i in range(30):\n",
    "    selected_SNP['SNP' + str(MostSNP[i][0]+1)] = pd.DataFrame(train_X).iloc[:, MostSNP[i][0]]\n",
    "\n",
    "selected_SNP = np.array(selected_SNP)\n",
    "\n",
    "model = tf.keras.Sequential([\n",
    "    tf.keras.layers.Dense(units = 32, activation = 'relu', input_shape = (30,)),\n",
    "    tf.keras.layers.Dense(units = 16, activation = 'relu'),\n",
    "    tf.keras.layers.Dense(units = 1)\n",
    "])\n",
    "model.compile(optimizer = tf.keras.optimizers.Adam(lr=0.01), loss='mse')\n",
    "\n",
    "history = model.fit(selected_SNP, id_conti_train_Y, epochs = 25, batch_size = 10, validation_split = 0.25)\n",
    "\n",
    "selected_test_SNP = pd.DataFrame()\n",
    "for i in range(30):\n",
    "    selected_test_SNP['SNP' + str(MostSNP[i][0]+1)] = pd.DataFrame(test_X).iloc[:, MostSNP[i][0]]\n",
    "selected_test_SNP = np.array(selected_test_SNP)\n",
    "\n",
    "model.evaluate(selected_test_SNP, id_conti_test_Y)\n",
    "pred_Y = model.predict(selected_test_SNP)\n",
    "\n",
    "plt.plot(id_conti_test_Y, pred_Y, 'b.')\n",
    "LeastSquareMethod(id_conti_test_Y, pred_Y)\n",
    "plt.plot([min(id_conti_test_Y), max(id_conti_test_Y)], [min(id_conti_test_Y), max(id_conti_test_Y)], ls='--', c='.3')\n",
    "plt.xlabel(\"test_Y\")\n",
    "plt.ylabel(\"pred_Y\")\n",
    "\n",
    "plt.figure()\n",
    "plt.plot(history.history['loss'], 'b--', label = 'loss')\n",
    "plt.plot(history.history['val_loss'], 'r--', label = 'val_loss')\n",
    "plt.legend()"
   ]
  },
  {
   "cell_type": "code",
   "execution_count": 58,
   "metadata": {},
   "outputs": [
    {
     "name": "stdout",
     "output_type": "stream",
     "text": [
      "Model: \"sequential_39\"\n",
      "_________________________________________________________________\n",
      "Layer (type)                 Output Shape              Param #   \n",
      "=================================================================\n",
      "dense_148 (Dense)            (None, 64)                64064     \n",
      "_________________________________________________________________\n",
      "dense_149 (Dense)            (None, 32)                2080      \n",
      "_________________________________________________________________\n",
      "dense_150 (Dense)            (None, 16)                528       \n",
      "_________________________________________________________________\n",
      "dense_151 (Dense)            (None, 2)                 34        \n",
      "=================================================================\n",
      "Total params: 66,706\n",
      "Trainable params: 66,706\n",
      "Non-trainable params: 0\n",
      "_________________________________________________________________\n",
      "Epoch 1/25\n",
      "23/23 [==============================] - 0s 7ms/step - loss: 4.6315 - accuracy: 0.6533 - val_loss: 3.0316 - val_accuracy: 0.1867\n",
      "Epoch 2/25\n",
      "23/23 [==============================] - 0s 2ms/step - loss: 0.8848 - accuracy: 0.6844 - val_loss: 0.5167 - val_accuracy: 0.8133\n",
      "Epoch 3/25\n",
      "23/23 [==============================] - 0s 2ms/step - loss: 0.5096 - accuracy: 0.7778 - val_loss: 0.6860 - val_accuracy: 0.8133\n",
      "Epoch 4/25\n",
      "23/23 [==============================] - 0s 2ms/step - loss: 0.5118 - accuracy: 0.7822 - val_loss: 0.8640 - val_accuracy: 0.8133\n",
      "Epoch 5/25\n",
      "23/23 [==============================] - 0s 1ms/step - loss: 0.5105 - accuracy: 0.8311 - val_loss: 0.8055 - val_accuracy: 0.8133\n",
      "5/5 [==============================] - 0s 1ms/step - loss: 0.8665 - accuracy: 0.8067\n"
     ]
    },
    {
     "data": {
      "text/plain": [
       "<matplotlib.legend.Legend at 0x1f0e45094f0>"
      ]
     },
     "execution_count": 58,
     "metadata": {},
     "output_type": "execute_result"
    },
    {
     "data": {
      "image/png": "[encoded data removed]",
      "text/plain": [
       "<Figure size 432x288 with 1 Axes>"
      ]
     },
     "metadata": {
      "needs_background": "light"
     },
     "output_type": "display_data"
    },
    {
     "data": {
      "image/png": "[encoded data removed]",
      "text/plain": [
       "<Figure size 432x288 with 1 Axes>"
      ]
     },
     "metadata": {
      "needs_background": "light"
     },
     "output_type": "display_data"
    }
   ],
   "source": [
    "model = tf.keras.Sequential([\n",
    "    tf.keras.layers.Dense(units = 64, activation = 'relu', input_shape=(1000,)),\n",
    "    tf.keras.layers.Dense(units = 32, activation = 'relu'),\n",
    "    tf.keras.layers.Dense(units = 16, activation = 'relu'),\n",
    "    tf.keras.layers.Dense(units = 2, activation = 'softmax')])\n",
    "\n",
    "model.compile(optimizer=tf.keras.optimizers.Adam(lr=0.01), loss = 'categorical_crossentropy', metrics = ['accuracy'])\n",
    "model.summary()\n",
    "\n",
    "fam_bin_train_Y_cat = tf.keras.utils.to_categorical(fam_bin_train_Y, num_classes = 2)\n",
    "fam_bin_test_Y_cat = tf.keras.utils.to_categorical(fam_bin_test_Y, num_classes = 2)\n",
    "\n",
    "history = model.fit(train_X, fam_bin_train_Y_cat, epochs=25, batch_size=10, validation_split = 0.25,\n",
    "         callbacks = [tf.keras.callbacks.EarlyStopping(patience = 3, monitor = 'val_loss')])\n",
    "\n",
    "model.evaluate(test_X, fam_bin_test_Y_cat)\n",
    "\n",
    "\n",
    "plt.plot(history.history['loss'], 'b--', label = 'loss')\n",
    "plt.plot(history.history['val_loss'], 'r--', label = 'val_loss')\n",
    "plt.xlabel(\"epoch\")\n",
    "plt.legend()\n",
    "\n",
    "plt.figure()\n",
    "plt.plot(history.history['accuracy'], 'g--', label = 'accuracy')\n",
    "plt.plot(history.history['val_accuracy'], 'k--', label = 'val_accuracy')\n",
    "plt.xlabel(\"epoch\")\n",
    "plt.legend()"
   ]
  },
  {
   "cell_type": "code",
   "execution_count": 68,
   "metadata": {},
   "outputs": [
    {
     "name": "stdout",
     "output_type": "stream",
     "text": [
      "Model: \"sequential_49\"\n",
      "_________________________________________________________________\n",
      "Layer (type)                 Output Shape              Param #   \n",
      "=================================================================\n",
      "dense_188 (Dense)            (None, 64)                64064     \n",
      "_________________________________________________________________\n",
      "dense_189 (Dense)            (None, 32)                2080      \n",
      "_________________________________________________________________\n",
      "dense_190 (Dense)            (None, 16)                528       \n",
      "_________________________________________________________________\n",
      "dense_191 (Dense)            (None, 2)                 34        \n",
      "=================================================================\n",
      "Total params: 66,706\n",
      "Trainable params: 66,706\n",
      "Non-trainable params: 0\n",
      "_________________________________________________________________\n",
      "Epoch 1/25\n",
      "23/23 [==============================] - 0s 7ms/step - loss: 2.6983 - accuracy: 0.5956 - val_loss: 0.7156 - val_accuracy: 0.7733\n",
      "Epoch 2/25\n",
      "23/23 [==============================] - 0s 2ms/step - loss: 0.5879 - accuracy: 0.7556 - val_loss: 0.5483 - val_accuracy: 0.7733\n",
      "Epoch 3/25\n",
      "23/23 [==============================] - 0s 2ms/step - loss: 0.5599 - accuracy: 0.8089 - val_loss: 0.5918 - val_accuracy: 0.7733\n",
      "Epoch 4/25\n",
      "23/23 [==============================] - 0s 2ms/step - loss: 0.4956 - accuracy: 0.8089 - val_loss: 0.6140 - val_accuracy: 0.7733\n",
      "Epoch 5/25\n",
      "23/23 [==============================] - 0s 2ms/step - loss: 0.5089 - accuracy: 0.8089 - val_loss: 0.5589 - val_accuracy: 0.7733\n",
      "5/5 [==============================] - 0s 997us/step - loss: 0.4624 - accuracy: 0.8267\n"
     ]
    },
    {
     "data": {
      "text/plain": [
       "<matplotlib.legend.Legend at 0x1f0ed524850>"
      ]
     },
     "execution_count": 68,
     "metadata": {},
     "output_type": "execute_result"
    },
    {
     "data": {
      "image/png": "[encoded data removed]",
      "text/plain": [
       "<Figure size 432x288 with 1 Axes>"
      ]
     },
     "metadata": {
      "needs_background": "light"
     },
     "output_type": "display_data"
    },
    {
     "data": {
      "image/png": "[encoded data removed]",
      "text/plain": [
       "<Figure size 432x288 with 1 Axes>"
      ]
     },
     "metadata": {
      "needs_background": "light"
     },
     "output_type": "display_data"
    }
   ],
   "source": [
    "model = tf.keras.Sequential([\n",
    "    tf.keras.layers.Dense(units = 64, activation = 'relu', input_shape=(1000,)),\n",
    "    tf.keras.layers.Dense(units = 32, activation = 'relu'),\n",
    "    tf.keras.layers.Dense(units = 16, activation = 'relu'),\n",
    "    tf.keras.layers.Dense(units = 2, activation = 'softmax')])\n",
    "\n",
    "model.compile(optimizer=tf.keras.optimizers.Adam(lr=0.01), loss = 'categorical_crossentropy', metrics = ['accuracy'])\n",
    "model.summary()\n",
    "\n",
    "id_bin_train_Y_cat = tf.keras.utils.to_categorical(id_bin_train_Y, num_classes = 2)\n",
    "id_bin_test_Y_cat = tf.keras.utils.to_categorical(id_bin_test_Y, num_classes = 2)\n",
    "\n",
    "history = model.fit(train_X, id_bin_train_Y_cat, epochs=25, batch_size=10, validation_split = 0.25,\n",
    "         callbacks = [tf.keras.callbacks.EarlyStopping(patience = 3, monitor = 'val_loss')])\n",
    "\n",
    "model.evaluate(test_X, id_bin_test_Y_cat)\n",
    "\n",
    "\n",
    "plt.plot(history.history['loss'], 'b--', label = 'loss')\n",
    "plt.plot(history.history['val_loss'], 'r--', label = 'val_loss')\n",
    "plt.xlabel(\"epoch\")\n",
    "plt.legend()\n",
    "\n",
    "plt.figure()\n",
    "plt.plot(history.history['accuracy'], 'g--', label = 'accuracy')\n",
    "plt.plot(history.history['val_accuracy'], 'k--', label = 'val_accuracy')\n",
    "plt.xlabel(\"epoch\")\n",
    "plt.legend()"
   ]
  },
  {
   "cell_type": "code",
   "execution_count": 91,
   "metadata": {},
   "outputs": [
    {
     "data": {
      "text/html": [
       "<div>\n",
       "<style scoped>\n",
       "    .dataframe tbody tr th:only-of-type {\n",
       "        vertical-align: middle;\n",
       "    }\n",
       "\n",
       "    .dataframe tbody tr th {\n",
       "        vertical-align: top;\n",
       "    }\n",
       "\n",
       "    .dataframe thead th {\n",
       "        text-align: right;\n",
       "    }\n",
       "</style>\n",
       "<table border=\"1\" class=\"dataframe\">\n",
       "  <thead>\n",
       "    <tr style=\"text-align: right;\">\n",
       "      <th></th>\n",
       "      <th>id phenotype</th>\n",
       "    </tr>\n",
       "    <tr>\n",
       "      <th>family phenotype</th>\n",
       "      <th></th>\n",
       "    </tr>\n",
       "  </thead>\n",
       "  <tbody>\n",
       "    <tr>\n",
       "      <th>0.0</th>\n",
       "      <td>0.180055</td>\n",
       "    </tr>\n",
       "    <tr>\n",
       "      <th>1.0</th>\n",
       "      <td>0.235955</td>\n",
       "    </tr>\n",
       "  </tbody>\n",
       "</table>\n",
       "</div>"
      ],
      "text/plain": [
       "                  id phenotype\n",
       "family phenotype              \n",
       "0.0                   0.180055\n",
       "1.0                   0.235955"
      ]
     },
     "execution_count": 91,
     "metadata": {},
     "output_type": "execute_result"
    }
   ],
   "source": [
    "fam_bin = []\n",
    "fam_bin.extend(fam_bin_train_Y)\n",
    "fam_bin.extend(fam_bin_test_Y)\n",
    "\n",
    "id_bin = []\n",
    "id_bin.extend(id_bin_train_Y)\n",
    "id_bin.extend(id_bin_test_Y)\n",
    "bin_df = pd.DataFrame({'family phenotype' : fam_bin, 'id phenotype' : id_bin})\n",
    "bin_df.groupby('family phenotype').mean()"
   ]
  },
  {
   "cell_type": "code",
   "execution_count": 92,
   "metadata": {},
   "outputs": [
    {
     "data": {
      "text/html": [
       "<div>\n",
       "<style scoped>\n",
       "    .dataframe tbody tr th:only-of-type {\n",
       "        vertical-align: middle;\n",
       "    }\n",
       "\n",
       "    .dataframe tbody tr th {\n",
       "        vertical-align: top;\n",
       "    }\n",
       "\n",
       "    .dataframe thead th {\n",
       "        text-align: right;\n",
       "    }\n",
       "</style>\n",
       "<table border=\"1\" class=\"dataframe\">\n",
       "  <thead>\n",
       "    <tr style=\"text-align: right;\">\n",
       "      <th></th>\n",
       "      <th>id phenotype</th>\n",
       "    </tr>\n",
       "    <tr>\n",
       "      <th>family phenotype</th>\n",
       "      <th></th>\n",
       "    </tr>\n",
       "  </thead>\n",
       "  <tbody>\n",
       "    <tr>\n",
       "      <th>0.0</th>\n",
       "      <td>361</td>\n",
       "    </tr>\n",
       "    <tr>\n",
       "      <th>1.0</th>\n",
       "      <td>89</td>\n",
       "    </tr>\n",
       "  </tbody>\n",
       "</table>\n",
       "</div>"
      ],
      "text/plain": [
       "                  id phenotype\n",
       "family phenotype              \n",
       "0.0                        361\n",
       "1.0                         89"
      ]
     },
     "execution_count": 92,
     "metadata": {},
     "output_type": "execute_result"
    }
   ],
   "source": [
    "bin_df.groupby('family phenotype').count()"
   ]
  },
  {
   "cell_type": "code",
   "execution_count": 93,
   "metadata": {},
   "outputs": [
    {
     "data": {
      "text/html": [
       "<div>\n",
       "<style scoped>\n",
       "    .dataframe tbody tr th:only-of-type {\n",
       "        vertical-align: middle;\n",
       "    }\n",
       "\n",
       "    .dataframe tbody tr th {\n",
       "        vertical-align: top;\n",
       "    }\n",
       "\n",
       "    .dataframe thead th {\n",
       "        text-align: right;\n",
       "    }\n",
       "</style>\n",
       "<table border=\"1\" class=\"dataframe\">\n",
       "  <thead>\n",
       "    <tr style=\"text-align: right;\">\n",
       "      <th></th>\n",
       "      <th>family phenotype</th>\n",
       "    </tr>\n",
       "    <tr>\n",
       "      <th>id phenotype</th>\n",
       "      <th></th>\n",
       "    </tr>\n",
       "  </thead>\n",
       "  <tbody>\n",
       "    <tr>\n",
       "      <th>0.0</th>\n",
       "      <td>364</td>\n",
       "    </tr>\n",
       "    <tr>\n",
       "      <th>1.0</th>\n",
       "      <td>86</td>\n",
       "    </tr>\n",
       "  </tbody>\n",
       "</table>\n",
       "</div>"
      ],
      "text/plain": [
       "              family phenotype\n",
       "id phenotype                  \n",
       "0.0                        364\n",
       "1.0                         86"
      ]
     },
     "execution_count": 93,
     "metadata": {},
     "output_type": "execute_result"
    }
   ],
   "source": [
    "bin_df.groupby('id phenotype').count()"
   ]
  },
  {
   "cell_type": "code",
   "execution_count": null,
   "metadata": {},
   "outputs": [],
   "source": []
  }
 ],
 "metadata": {
  "kernelspec": {
   "display_name": "Python 3",
   "language": "python",
   "name": "python3"
  },
  "language_info": {
   "codemirror_mode": {
    "name": "ipython",
    "version": 3
   },
   "file_extension": ".py",
   "mimetype": "text/x-python",
   "name": "python",
   "nbconvert_exporter": "python",
   "pygments_lexer": "ipython3",
   "version": "3.8.5"
  }
 },
 "nbformat": 4,
 "nbformat_minor": 4
}
